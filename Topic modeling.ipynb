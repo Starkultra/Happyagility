{
  "nbformat": 4,
  "nbformat_minor": 0,
  "metadata": {
    "colab": {
      "name": "Untitled16.ipynb",
      "provenance": []
    },
    "kernelspec": {
      "name": "python3",
      "display_name": "Python 3"
    },
    "language_info": {
      "name": "python"
    },
    "accelerator": "GPU"
  },
  "cells": [
    {
      "cell_type": "code",
      "metadata": {
        "id": "HEz_Y-hEBvOP"
      },
      "source": [
        "import pandas as pd\n",
        "import numpy as np\n",
        "import seaborn as sns\n",
        "import matplotlib.pyplot as plt\n",
        "%matplotlib inline"
      ],
      "execution_count": 1,
      "outputs": []
    },
    {
      "cell_type": "code",
      "metadata": {
        "colab": {
          "base_uri": "https://localhost:8080/",
          "height": 229
        },
        "id": "q19FVOKzCOaE",
        "outputId": "b45f10a4-8f68-471e-c250-ab3553c945db"
      },
      "source": [
        "d1 = pd.read_csv('/content/aardy-1.csv')\n",
        "d1.head()"
      ],
      "execution_count": 2,
      "outputs": [
        {
          "output_type": "execute_result",
          "data": {
            "text/html": [
              "<div>\n",
              "<style scoped>\n",
              "    .dataframe tbody tr th:only-of-type {\n",
              "        vertical-align: middle;\n",
              "    }\n",
              "\n",
              "    .dataframe tbody tr th {\n",
              "        vertical-align: top;\n",
              "    }\n",
              "\n",
              "    .dataframe thead th {\n",
              "        text-align: right;\n",
              "    }\n",
              "</style>\n",
              "<table border=\"1\" class=\"dataframe\">\n",
              "  <thead>\n",
              "    <tr style=\"text-align: right;\">\n",
              "      <th></th>\n",
              "      <th>Unnamed: 0</th>\n",
              "      <th>Title</th>\n",
              "      <th>Body</th>\n",
              "      <th>Stars</th>\n",
              "      <th>Rated</th>\n",
              "      <th>Date Posted</th>\n",
              "      <th>Time Posted</th>\n",
              "      <th>Name</th>\n",
              "      <th>userId</th>\n",
              "      <th>Clean_Text_Body</th>\n",
              "    </tr>\n",
              "  </thead>\n",
              "  <tbody>\n",
              "    <tr>\n",
              "      <th>0</th>\n",
              "      <td>0</td>\n",
              "      <td>Excellent service</td>\n",
              "      <td>Excellent service. I had a really good experie...</td>\n",
              "      <td>5</td>\n",
              "      <td>Excellent</td>\n",
              "      <td>3/15/2021</td>\n",
              "      <td>20:13:18+0</td>\n",
              "      <td>Varun</td>\n",
              "      <td>6</td>\n",
              "      <td>excellent service good experience</td>\n",
              "    </tr>\n",
              "    <tr>\n",
              "      <th>1</th>\n",
              "      <td>1</td>\n",
              "      <td>The best 😁😉</td>\n",
              "      <td>-</td>\n",
              "      <td>5</td>\n",
              "      <td>Excellent</td>\n",
              "      <td>3/15/2021</td>\n",
              "      <td>16:29:14+0</td>\n",
              "      <td>Maja Šitum</td>\n",
              "      <td>6</td>\n",
              "      <td>NaN</td>\n",
              "    </tr>\n",
              "    <tr>\n",
              "      <th>2</th>\n",
              "      <td>2</td>\n",
              "      <td>Excellent service!</td>\n",
              "      <td>-</td>\n",
              "      <td>5</td>\n",
              "      <td>Excellent</td>\n",
              "      <td>3/13/2021</td>\n",
              "      <td>23:48:45+0</td>\n",
              "      <td>Eugen Tseng</td>\n",
              "      <td>6</td>\n",
              "      <td>NaN</td>\n",
              "    </tr>\n",
              "    <tr>\n",
              "      <th>3</th>\n",
              "      <td>3</td>\n",
              "      <td>A VERY valuable employee....</td>\n",
              "      <td>I called your number and was assisted by Tina ...</td>\n",
              "      <td>5</td>\n",
              "      <td>Excellent</td>\n",
              "      <td>3/13/2021</td>\n",
              "      <td>16:51:17+0</td>\n",
              "      <td>Maurice Maurizi</td>\n",
              "      <td>6</td>\n",
              "      <td>call number assist tina help identify policy c...</td>\n",
              "    </tr>\n",
              "    <tr>\n",
              "      <th>4</th>\n",
              "      <td>4</td>\n",
              "      <td>Great service!!!</td>\n",
              "      <td>-</td>\n",
              "      <td>5</td>\n",
              "      <td>Excellent</td>\n",
              "      <td>3/13/2021</td>\n",
              "      <td>15:19:48+0</td>\n",
              "      <td>Hristian Anchev</td>\n",
              "      <td>6</td>\n",
              "      <td>NaN</td>\n",
              "    </tr>\n",
              "  </tbody>\n",
              "</table>\n",
              "</div>"
            ],
            "text/plain": [
              "   Unnamed: 0  ...                                    Clean_Text_Body\n",
              "0           0  ...                  excellent service good experience\n",
              "1           1  ...                                                NaN\n",
              "2           2  ...                                                NaN\n",
              "3           3  ...  call number assist tina help identify policy c...\n",
              "4           4  ...                                                NaN\n",
              "\n",
              "[5 rows x 10 columns]"
            ]
          },
          "metadata": {
            "tags": []
          },
          "execution_count": 2
        }
      ]
    },
    {
      "cell_type": "code",
      "metadata": {
        "colab": {
          "base_uri": "https://localhost:8080/",
          "height": 296
        },
        "id": "FYalZ7t3ChY_",
        "outputId": "dbd74a41-3ce4-4545-c3bb-0128489ef067"
      },
      "source": [
        "filename = '/content/roamright-1.csv'\n",
        "d2 = pd.read_csv(filename, sep = ',', encoding = 'latin1', error_bad_lines=False)\n",
        "d2.head()"
      ],
      "execution_count": 3,
      "outputs": [
        {
          "output_type": "execute_result",
          "data": {
            "text/html": [
              "<div>\n",
              "<style scoped>\n",
              "    .dataframe tbody tr th:only-of-type {\n",
              "        vertical-align: middle;\n",
              "    }\n",
              "\n",
              "    .dataframe tbody tr th {\n",
              "        vertical-align: top;\n",
              "    }\n",
              "\n",
              "    .dataframe thead th {\n",
              "        text-align: right;\n",
              "    }\n",
              "</style>\n",
              "<table border=\"1\" class=\"dataframe\">\n",
              "  <thead>\n",
              "    <tr style=\"text-align: right;\">\n",
              "      <th></th>\n",
              "      <th>Unnamed: 0</th>\n",
              "      <th>Title</th>\n",
              "      <th>Body</th>\n",
              "      <th>Stars</th>\n",
              "      <th>Rated</th>\n",
              "      <th>Date Posted</th>\n",
              "      <th>Time Posted</th>\n",
              "      <th>Name</th>\n",
              "      <th>userId</th>\n",
              "      <th>Clean_Text_Body</th>\n",
              "    </tr>\n",
              "  </thead>\n",
              "  <tbody>\n",
              "    <tr>\n",
              "      <th>0</th>\n",
              "      <td>0</td>\n",
              "      <td>Very pleasant and efficient</td>\n",
              "      <td>Very pleasant and efficient reinstatement of p...</td>\n",
              "      <td>5</td>\n",
              "      <td>Excellent</td>\n",
              "      <td>3/9/2021</td>\n",
              "      <td>18:22:14+0</td>\n",
              "      <td>Susan</td>\n",
              "      <td>6</td>\n",
              "      <td>pleasant efficient reinstatement policy previo...</td>\n",
              "    </tr>\n",
              "    <tr>\n",
              "      <th>1</th>\n",
              "      <td>1</td>\n",
              "      <td>Please pay my claim.</td>\n",
              "      <td>When I was booking the insurance customer serv...</td>\n",
              "      <td>2</td>\n",
              "      <td>Poor</td>\n",
              "      <td>3/9/2021</td>\n",
              "      <td>15:08:27+0</td>\n",
              "      <td>H Shamah</td>\n",
              "      <td>6</td>\n",
              "      <td>book insurance customer service supportive dra...</td>\n",
              "    </tr>\n",
              "    <tr>\n",
              "      <th>2</th>\n",
              "      <td>2</td>\n",
              "      <td>DO NOT USE THIS SERVICE</td>\n",
              "      <td>This is the slowest, most useless service. Hor...</td>\n",
              "      <td>1</td>\n",
              "      <td>Bad</td>\n",
              "      <td>3/3/2021</td>\n",
              "      <td>22:27:19+0</td>\n",
              "      <td>Anonymous</td>\n",
              "      <td>6</td>\n",
              "      <td>slow useless service horrible customer service...</td>\n",
              "    </tr>\n",
              "    <tr>\n",
              "      <th>3</th>\n",
              "      <td>3</td>\n",
              "      <td>I have not had a claim so I cannot tell</td>\n",
              "      <td>I have not had a claim so I cannot tell you ho...</td>\n",
              "      <td>5</td>\n",
              "      <td>Excellent</td>\n",
              "      <td>3/2/2021</td>\n",
              "      <td>12:03:51+0</td>\n",
              "      <td>steven drobnis</td>\n",
              "      <td>6</td>\n",
              "      <td>claim tell good service area far issue contrac...</td>\n",
              "    </tr>\n",
              "    <tr>\n",
              "      <th>4</th>\n",
              "      <td>4</td>\n",
              "      <td>Ive always had good service with</td>\n",
              "      <td>Ive always had good service with RoamRight bu...</td>\n",
              "      <td>5</td>\n",
              "      <td>Excellent</td>\n",
              "      <td>3/1/2021</td>\n",
              "      <td>17:19:19+0</td>\n",
              "      <td>Cathleen</td>\n",
              "      <td>6</td>\n",
              "      <td>good service roamright year extra specialthe ...</td>\n",
              "    </tr>\n",
              "  </tbody>\n",
              "</table>\n",
              "</div>"
            ],
            "text/plain": [
              "   Unnamed: 0  ...                                    Clean_Text_Body\n",
              "0           0  ...  pleasant efficient reinstatement policy previo...\n",
              "1           1  ...  book insurance customer service supportive dra...\n",
              "2           2  ...  slow useless service horrible customer service...\n",
              "3           3  ...  claim tell good service area far issue contrac...\n",
              "4           4  ...   good service roamright year extra specialthe ...\n",
              "\n",
              "[5 rows x 10 columns]"
            ]
          },
          "metadata": {
            "tags": []
          },
          "execution_count": 3
        }
      ]
    },
    {
      "cell_type": "code",
      "metadata": {
        "colab": {
          "base_uri": "https://localhost:8080/",
          "height": 313
        },
        "id": "YpHWtqxGCmeh",
        "outputId": "731973fe-b601-4b3f-9bb7-732616c8c433"
      },
      "source": [
        "d3 = pd.read_csv('/content/visitorscoverage-1.csv')\n",
        "d3.head()"
      ],
      "execution_count": 4,
      "outputs": [
        {
          "output_type": "execute_result",
          "data": {
            "text/html": [
              "<div>\n",
              "<style scoped>\n",
              "    .dataframe tbody tr th:only-of-type {\n",
              "        vertical-align: middle;\n",
              "    }\n",
              "\n",
              "    .dataframe tbody tr th {\n",
              "        vertical-align: top;\n",
              "    }\n",
              "\n",
              "    .dataframe thead th {\n",
              "        text-align: right;\n",
              "    }\n",
              "</style>\n",
              "<table border=\"1\" class=\"dataframe\">\n",
              "  <thead>\n",
              "    <tr style=\"text-align: right;\">\n",
              "      <th></th>\n",
              "      <th>Unnamed: 0</th>\n",
              "      <th>Title</th>\n",
              "      <th>Body</th>\n",
              "      <th>Stars</th>\n",
              "      <th>Rated</th>\n",
              "      <th>Date Posted</th>\n",
              "      <th>Time Posted</th>\n",
              "      <th>Name</th>\n",
              "      <th>userId</th>\n",
              "      <th>Clean_Text_Body</th>\n",
              "    </tr>\n",
              "  </thead>\n",
              "  <tbody>\n",
              "    <tr>\n",
              "      <th>0</th>\n",
              "      <td>0</td>\n",
              "      <td>Easy filling out forms and pretty…</td>\n",
              "      <td>Easy filling out forms and pretty painless tra...</td>\n",
              "      <td>5</td>\n",
              "      <td>Excellent</td>\n",
              "      <td>3/18/2021</td>\n",
              "      <td>01:42:32+0</td>\n",
              "      <td>customer</td>\n",
              "      <td>6</td>\n",
              "      <td>easy fill form pretty painless transaction hop...</td>\n",
              "    </tr>\n",
              "    <tr>\n",
              "      <th>1</th>\n",
              "      <td>1</td>\n",
              "      <td>Did I have a choice</td>\n",
              "      <td>Did I have a choice? No but since I didn’t at ...</td>\n",
              "      <td>5</td>\n",
              "      <td>Excellent</td>\n",
              "      <td>3/17/2021</td>\n",
              "      <td>04:17:59+0</td>\n",
              "      <td>Matthew Crumbley</td>\n",
              "      <td>6</td>\n",
              "      <td>choice  process obtain policy easy</td>\n",
              "    </tr>\n",
              "    <tr>\n",
              "      <th>2</th>\n",
              "      <td>2</td>\n",
              "      <td>Easy fast simple and your covered great…</td>\n",
              "      <td>Easy fast simple and your covered great prices</td>\n",
              "      <td>5</td>\n",
              "      <td>Excellent</td>\n",
              "      <td>3/16/2021</td>\n",
              "      <td>15:55:19+0</td>\n",
              "      <td>customer</td>\n",
              "      <td>6</td>\n",
              "      <td>easy fast simple cover great price</td>\n",
              "    </tr>\n",
              "    <tr>\n",
              "      <th>3</th>\n",
              "      <td>3</td>\n",
              "      <td>Very simple &amp; cost effective</td>\n",
              "      <td>-</td>\n",
              "      <td>5</td>\n",
              "      <td>Excellent</td>\n",
              "      <td>3/15/2021</td>\n",
              "      <td>21:00:26+0</td>\n",
              "      <td>customer</td>\n",
              "      <td>6</td>\n",
              "      <td>NaN</td>\n",
              "    </tr>\n",
              "    <tr>\n",
              "      <th>4</th>\n",
              "      <td>4</td>\n",
              "      <td>Thanks to Visitors Coverage for quick…</td>\n",
              "      <td>Thanks to Visitors Coverage for quick and easy...</td>\n",
              "      <td>5</td>\n",
              "      <td>Excellent</td>\n",
              "      <td>3/15/2021</td>\n",
              "      <td>17:00:29+0</td>\n",
              "      <td>customer</td>\n",
              "      <td>6</td>\n",
              "      <td>thanks visitor coverage quick easy way purchas...</td>\n",
              "    </tr>\n",
              "  </tbody>\n",
              "</table>\n",
              "</div>"
            ],
            "text/plain": [
              "   Unnamed: 0  ...                                    Clean_Text_Body\n",
              "0           0  ...  easy fill form pretty painless transaction hop...\n",
              "1           1  ...                 choice  process obtain policy easy\n",
              "2           2  ...                 easy fast simple cover great price\n",
              "3           3  ...                                                NaN\n",
              "4           4  ...  thanks visitor coverage quick easy way purchas...\n",
              "\n",
              "[5 rows x 10 columns]"
            ]
          },
          "metadata": {
            "tags": []
          },
          "execution_count": 4
        }
      ]
    },
    {
      "cell_type": "code",
      "metadata": {
        "id": "9EfFF1piDI62"
      },
      "source": [
        "data = pd.concat([d1, d2,d3], ignore_index=True, sort=False)"
      ],
      "execution_count": 5,
      "outputs": []
    },
    {
      "cell_type": "code",
      "metadata": {
        "colab": {
          "base_uri": "https://localhost:8080/",
          "height": 296
        },
        "id": "HimBlQpKD7xw",
        "outputId": "a36d6fa5-25c1-408a-cb85-9b26ba2c2e4b"
      },
      "source": [
        "data.head()"
      ],
      "execution_count": 6,
      "outputs": [
        {
          "output_type": "execute_result",
          "data": {
            "text/html": [
              "<div>\n",
              "<style scoped>\n",
              "    .dataframe tbody tr th:only-of-type {\n",
              "        vertical-align: middle;\n",
              "    }\n",
              "\n",
              "    .dataframe tbody tr th {\n",
              "        vertical-align: top;\n",
              "    }\n",
              "\n",
              "    .dataframe thead th {\n",
              "        text-align: right;\n",
              "    }\n",
              "</style>\n",
              "<table border=\"1\" class=\"dataframe\">\n",
              "  <thead>\n",
              "    <tr style=\"text-align: right;\">\n",
              "      <th></th>\n",
              "      <th>Unnamed: 0</th>\n",
              "      <th>Title</th>\n",
              "      <th>Body</th>\n",
              "      <th>Stars</th>\n",
              "      <th>Rated</th>\n",
              "      <th>Date Posted</th>\n",
              "      <th>Time Posted</th>\n",
              "      <th>Name</th>\n",
              "      <th>userId</th>\n",
              "      <th>Clean_Text_Body</th>\n",
              "    </tr>\n",
              "  </thead>\n",
              "  <tbody>\n",
              "    <tr>\n",
              "      <th>0</th>\n",
              "      <td>0</td>\n",
              "      <td>Excellent service</td>\n",
              "      <td>Excellent service. I had a really good experie...</td>\n",
              "      <td>5</td>\n",
              "      <td>Excellent</td>\n",
              "      <td>3/15/2021</td>\n",
              "      <td>20:13:18+0</td>\n",
              "      <td>Varun</td>\n",
              "      <td>6</td>\n",
              "      <td>excellent service good experience</td>\n",
              "    </tr>\n",
              "    <tr>\n",
              "      <th>1</th>\n",
              "      <td>1</td>\n",
              "      <td>The best 😁😉</td>\n",
              "      <td>-</td>\n",
              "      <td>5</td>\n",
              "      <td>Excellent</td>\n",
              "      <td>3/15/2021</td>\n",
              "      <td>16:29:14+0</td>\n",
              "      <td>Maja Šitum</td>\n",
              "      <td>6</td>\n",
              "      <td>NaN</td>\n",
              "    </tr>\n",
              "    <tr>\n",
              "      <th>2</th>\n",
              "      <td>2</td>\n",
              "      <td>Excellent service!</td>\n",
              "      <td>-</td>\n",
              "      <td>5</td>\n",
              "      <td>Excellent</td>\n",
              "      <td>3/13/2021</td>\n",
              "      <td>23:48:45+0</td>\n",
              "      <td>Eugen Tseng</td>\n",
              "      <td>6</td>\n",
              "      <td>NaN</td>\n",
              "    </tr>\n",
              "    <tr>\n",
              "      <th>3</th>\n",
              "      <td>3</td>\n",
              "      <td>A VERY valuable employee....</td>\n",
              "      <td>I called your number and was assisted by Tina ...</td>\n",
              "      <td>5</td>\n",
              "      <td>Excellent</td>\n",
              "      <td>3/13/2021</td>\n",
              "      <td>16:51:17+0</td>\n",
              "      <td>Maurice Maurizi</td>\n",
              "      <td>6</td>\n",
              "      <td>call number assist tina help identify policy c...</td>\n",
              "    </tr>\n",
              "    <tr>\n",
              "      <th>4</th>\n",
              "      <td>4</td>\n",
              "      <td>Great service!!!</td>\n",
              "      <td>-</td>\n",
              "      <td>5</td>\n",
              "      <td>Excellent</td>\n",
              "      <td>3/13/2021</td>\n",
              "      <td>15:19:48+0</td>\n",
              "      <td>Hristian Anchev</td>\n",
              "      <td>6</td>\n",
              "      <td>NaN</td>\n",
              "    </tr>\n",
              "  </tbody>\n",
              "</table>\n",
              "</div>"
            ],
            "text/plain": [
              "   Unnamed: 0  ...                                    Clean_Text_Body\n",
              "0           0  ...                  excellent service good experience\n",
              "1           1  ...                                                NaN\n",
              "2           2  ...                                                NaN\n",
              "3           3  ...  call number assist tina help identify policy c...\n",
              "4           4  ...                                                NaN\n",
              "\n",
              "[5 rows x 10 columns]"
            ]
          },
          "metadata": {
            "tags": []
          },
          "execution_count": 6
        }
      ]
    },
    {
      "cell_type": "code",
      "metadata": {
        "id": "rhkX5jMNEmZu"
      },
      "source": [
        "data = data.loc[:,~data.columns.str.match(\"Unnamed\")]"
      ],
      "execution_count": 7,
      "outputs": []
    },
    {
      "cell_type": "code",
      "metadata": {
        "colab": {
          "base_uri": "https://localhost:8080/",
          "height": 279
        },
        "id": "XjQ01Q4OE86u",
        "outputId": "5305bc9f-e2fe-4930-a1f6-86c752c103da"
      },
      "source": [
        "data.head()"
      ],
      "execution_count": 8,
      "outputs": [
        {
          "output_type": "execute_result",
          "data": {
            "text/html": [
              "<div>\n",
              "<style scoped>\n",
              "    .dataframe tbody tr th:only-of-type {\n",
              "        vertical-align: middle;\n",
              "    }\n",
              "\n",
              "    .dataframe tbody tr th {\n",
              "        vertical-align: top;\n",
              "    }\n",
              "\n",
              "    .dataframe thead th {\n",
              "        text-align: right;\n",
              "    }\n",
              "</style>\n",
              "<table border=\"1\" class=\"dataframe\">\n",
              "  <thead>\n",
              "    <tr style=\"text-align: right;\">\n",
              "      <th></th>\n",
              "      <th>Title</th>\n",
              "      <th>Body</th>\n",
              "      <th>Stars</th>\n",
              "      <th>Rated</th>\n",
              "      <th>Date Posted</th>\n",
              "      <th>Time Posted</th>\n",
              "      <th>Name</th>\n",
              "      <th>userId</th>\n",
              "      <th>Clean_Text_Body</th>\n",
              "    </tr>\n",
              "  </thead>\n",
              "  <tbody>\n",
              "    <tr>\n",
              "      <th>0</th>\n",
              "      <td>Excellent service</td>\n",
              "      <td>Excellent service. I had a really good experie...</td>\n",
              "      <td>5</td>\n",
              "      <td>Excellent</td>\n",
              "      <td>3/15/2021</td>\n",
              "      <td>20:13:18+0</td>\n",
              "      <td>Varun</td>\n",
              "      <td>6</td>\n",
              "      <td>excellent service good experience</td>\n",
              "    </tr>\n",
              "    <tr>\n",
              "      <th>1</th>\n",
              "      <td>The best 😁😉</td>\n",
              "      <td>-</td>\n",
              "      <td>5</td>\n",
              "      <td>Excellent</td>\n",
              "      <td>3/15/2021</td>\n",
              "      <td>16:29:14+0</td>\n",
              "      <td>Maja Šitum</td>\n",
              "      <td>6</td>\n",
              "      <td>NaN</td>\n",
              "    </tr>\n",
              "    <tr>\n",
              "      <th>2</th>\n",
              "      <td>Excellent service!</td>\n",
              "      <td>-</td>\n",
              "      <td>5</td>\n",
              "      <td>Excellent</td>\n",
              "      <td>3/13/2021</td>\n",
              "      <td>23:48:45+0</td>\n",
              "      <td>Eugen Tseng</td>\n",
              "      <td>6</td>\n",
              "      <td>NaN</td>\n",
              "    </tr>\n",
              "    <tr>\n",
              "      <th>3</th>\n",
              "      <td>A VERY valuable employee....</td>\n",
              "      <td>I called your number and was assisted by Tina ...</td>\n",
              "      <td>5</td>\n",
              "      <td>Excellent</td>\n",
              "      <td>3/13/2021</td>\n",
              "      <td>16:51:17+0</td>\n",
              "      <td>Maurice Maurizi</td>\n",
              "      <td>6</td>\n",
              "      <td>call number assist tina help identify policy c...</td>\n",
              "    </tr>\n",
              "    <tr>\n",
              "      <th>4</th>\n",
              "      <td>Great service!!!</td>\n",
              "      <td>-</td>\n",
              "      <td>5</td>\n",
              "      <td>Excellent</td>\n",
              "      <td>3/13/2021</td>\n",
              "      <td>15:19:48+0</td>\n",
              "      <td>Hristian Anchev</td>\n",
              "      <td>6</td>\n",
              "      <td>NaN</td>\n",
              "    </tr>\n",
              "  </tbody>\n",
              "</table>\n",
              "</div>"
            ],
            "text/plain": [
              "                          Title  ...                                    Clean_Text_Body\n",
              "0             Excellent service  ...                  excellent service good experience\n",
              "1                   The best 😁😉  ...                                                NaN\n",
              "2            Excellent service!  ...                                                NaN\n",
              "3  A VERY valuable employee....  ...  call number assist tina help identify policy c...\n",
              "4              Great service!!!  ...                                                NaN\n",
              "\n",
              "[5 rows x 9 columns]"
            ]
          },
          "metadata": {
            "tags": []
          },
          "execution_count": 8
        }
      ]
    },
    {
      "cell_type": "code",
      "metadata": {
        "colab": {
          "base_uri": "https://localhost:8080/"
        },
        "id": "l-wlmTOhD9Ed",
        "outputId": "1965bbf4-faa0-48e2-829a-04c453ba934d"
      },
      "source": [
        "data.shape"
      ],
      "execution_count": 9,
      "outputs": [
        {
          "output_type": "execute_result",
          "data": {
            "text/plain": [
              "(8180, 9)"
            ]
          },
          "metadata": {
            "tags": []
          },
          "execution_count": 9
        }
      ]
    },
    {
      "cell_type": "code",
      "metadata": {
        "colab": {
          "base_uri": "https://localhost:8080/"
        },
        "id": "p_tT3vIxD_Lw",
        "outputId": "5ed62d26-678d-4111-dae1-bf3f838ec6f1"
      },
      "source": [
        "print(d1.shape,'+', d2.shape,'+',d3.shape, '=>',' ',data.shape)"
      ],
      "execution_count": 10,
      "outputs": [
        {
          "output_type": "stream",
          "text": [
            "(5620, 10) + (1280, 10) + (1280, 10) =>   (8180, 9)\n"
          ],
          "name": "stdout"
        }
      ]
    },
    {
      "cell_type": "markdown",
      "metadata": {
        "id": "o0ZFJKUFFDMo"
      },
      "source": [
        "well I Removed Unnamed column so it 9 col totally"
      ]
    },
    {
      "cell_type": "code",
      "metadata": {
        "colab": {
          "base_uri": "https://localhost:8080/"
        },
        "id": "kj20lNLUEHuk",
        "outputId": "e82a0071-8e65-4ea2-d473-97d6d3473074"
      },
      "source": [
        "data.isna().sum()"
      ],
      "execution_count": 11,
      "outputs": [
        {
          "output_type": "execute_result",
          "data": {
            "text/plain": [
              "Title                 0\n",
              "Body                  0\n",
              "Stars                 0\n",
              "Rated                 0\n",
              "Date Posted           0\n",
              "Time Posted           0\n",
              "Name                  0\n",
              "userId                0\n",
              "Clean_Text_Body    1108\n",
              "dtype: int64"
            ]
          },
          "metadata": {
            "tags": []
          },
          "execution_count": 11
        }
      ]
    },
    {
      "cell_type": "code",
      "metadata": {
        "id": "0YywBIjGR6n7"
      },
      "source": [
        "df= data.dropna()"
      ],
      "execution_count": 12,
      "outputs": []
    },
    {
      "cell_type": "code",
      "metadata": {
        "colab": {
          "base_uri": "https://localhost:8080/"
        },
        "id": "qGHTiTK4RZxy",
        "outputId": "711a198b-96ec-4237-8494-83a4d20afe8d"
      },
      "source": [
        "df.isna().sum()"
      ],
      "execution_count": 13,
      "outputs": [
        {
          "output_type": "execute_result",
          "data": {
            "text/plain": [
              "Title              0\n",
              "Body               0\n",
              "Stars              0\n",
              "Rated              0\n",
              "Date Posted        0\n",
              "Time Posted        0\n",
              "Name               0\n",
              "userId             0\n",
              "Clean_Text_Body    0\n",
              "dtype: int64"
            ]
          },
          "metadata": {
            "tags": []
          },
          "execution_count": 13
        }
      ]
    },
    {
      "cell_type": "code",
      "metadata": {
        "colab": {
          "base_uri": "https://localhost:8080/"
        },
        "id": "yj04F-bzSBVY",
        "outputId": "a55a9395-5400-40cf-a198-dd1434f760be"
      },
      "source": [
        "df.shape"
      ],
      "execution_count": 14,
      "outputs": [
        {
          "output_type": "execute_result",
          "data": {
            "text/plain": [
              "(7072, 9)"
            ]
          },
          "metadata": {
            "tags": []
          },
          "execution_count": 14
        }
      ]
    },
    {
      "cell_type": "code",
      "metadata": {
        "colab": {
          "base_uri": "https://localhost:8080/",
          "height": 17
        },
        "id": "YgzicmFTFcDZ",
        "outputId": "872d774e-4553-4f5d-9fc3-8f5439805565"
      },
      "source": [
        "import plotly.offline as py\n",
        "py.init_notebook_mode(connected =True)\n",
        "import plotly.graph_objs as go\n",
        "import plotly.tools as tls"
      ],
      "execution_count": 15,
      "outputs": [
        {
          "output_type": "display_data",
          "data": {
            "text/html": [
              "        <script type=\"text/javascript\">\n",
              "        window.PlotlyConfig = {MathJaxConfig: 'local'};\n",
              "        if (window.MathJax) {MathJax.Hub.Config({SVG: {font: \"STIX-Web\"}});}\n",
              "        if (typeof require !== 'undefined') {\n",
              "        require.undef(\"plotly\");\n",
              "        requirejs.config({\n",
              "            paths: {\n",
              "                'plotly': ['https://cdn.plot.ly/plotly-latest.min']\n",
              "            }\n",
              "        });\n",
              "        require(['plotly'], function(Plotly) {\n",
              "            window._Plotly = Plotly;\n",
              "        });\n",
              "        }\n",
              "        </script>\n",
              "        "
            ]
          },
          "metadata": {
            "tags": []
          }
        }
      ]
    },
    {
      "cell_type": "code",
      "metadata": {
        "id": "9whTb73gFpJ7"
      },
      "source": [
        "all_words = df['Clean_Text_Body'].str.split(expand=True).unstack().value_counts()"
      ],
      "execution_count": 16,
      "outputs": []
    },
    {
      "cell_type": "code",
      "metadata": {
        "colab": {
          "base_uri": "https://localhost:8080/",
          "height": 542
        },
        "id": "2s3-eRzEGR55",
        "outputId": "8184c9a3-11ee-4ec8-c20c-6d4f1309f79d"
      },
      "source": [
        "\n",
        "dt = [go.Bar(\n",
        "            x = all_words.index.values[2:50],\n",
        "            y = all_words.values[2:50],\n",
        "            marker= dict(colorscale='Jet',\n",
        "                         color = all_words.values[2:100]\n",
        "                        ),\n",
        "            text='Word counts'\n",
        "    )]\n",
        "\n",
        "layout = go.Layout(\n",
        "    title='Top 50 Word frequencies in the  ataset'\n",
        ")\n",
        "\n",
        "fig = go.Figure(data=dt, layout=layout)\n",
        "\n",
        "py.iplot(fig, filename='basic-bar')"
      ],
      "execution_count": 17,
      "outputs": [
        {
          "output_type": "display_data",
          "data": {
            "text/html": [
              "<div>\n",
              "        \n",
              "        \n",
              "            <div id=\"efba3514-32fb-4567-b24a-061c7a51860f\" class=\"plotly-graph-div\" style=\"height:525px; width:100%;\"></div>\n",
              "            <script type=\"text/javascript\">\n",
              "                require([\"plotly\"], function(Plotly) {\n",
              "                    window.PLOTLYENV=window.PLOTLYENV || {};\n",
              "                    \n",
              "                if (document.getElementById(\"efba3514-32fb-4567-b24a-061c7a51860f\")) {\n",
              "                    Plotly.newPlot(\n",
              "                        'efba3514-32fb-4567-b24a-061c7a51860f',\n",
              "                        [{\"marker\": {\"color\": [2171, 2003, 1572, 1497, 1369, 1335, 1204, 1164, 1155, 1108, 1078, 997, 948, 905, 867, 866, 865, 824, 810, 808, 719, 715, 712, 666, 664, 654, 634, 630, 599, 541, 533, 531, 526, 523, 515, 513, 505, 503, 486, 461, 461, 449, 449, 448, 445, 431, 431, 429, 423, 403, 387, 382, 381, 368, 353, 353, 350, 346, 337, 336, 331, 325, 317, 305, 305, 294, 294, 293, 292, 291, 288, 288, 280, 276, 276, 275, 273, 266, 266, 262, 262, 260, 259, 257, 249, 245, 244, 243, 242, 240, 237, 232, 230, 228, 226, 216, 214, 213], \"colorscale\": [[0.0, \"rgb(0,0,131)\"], [0.2, \"rgb(0,60,170)\"], [0.4, \"rgb(5,255,255)\"], [0.6, \"rgb(255,255,0)\"], [0.8, \"rgb(250,0,0)\"], [1.0, \"rgb(128,0,0)\"]]}, \"text\": \"Word counts\", \"type\": \"bar\", \"x\": [\"policy\", \"easy\", \"service\", \"helpful\", \"trip\", \"claim\", \"need\", \"company\", \"question\", \"good\", \"purchase\", \"use\", \"great\", \"customer\", \"plan\", \"help\", \"coverage\", \"answer\", \"right\", \"agent\", \"cancel\", \"time\", \"year\", \"find\", \"knowledgeable\", \"thank\", \"price\", \"best\", \"process\", \"call\", \"jonathan\", \"buy\", \"refund\", \"compare\", \"information\", \"option\", \"phone\", \"able\", \"excellent\", \"recommend\", \"aardvark\", \"roam\", \"roamright\", \"site\", \"work\", \"quick\", \"explain\", \"chat\"], \"y\": [2171, 2003, 1572, 1497, 1369, 1335, 1204, 1164, 1155, 1108, 1078, 997, 948, 905, 867, 866, 865, 824, 810, 808, 719, 715, 712, 666, 664, 654, 634, 630, 599, 541, 533, 531, 526, 523, 515, 513, 505, 503, 486, 461, 461, 449, 449, 448, 445, 431, 431, 429]}],\n",
              "                        {\"template\": {\"data\": {\"bar\": [{\"error_x\": {\"color\": \"#2a3f5f\"}, \"error_y\": {\"color\": \"#2a3f5f\"}, \"marker\": {\"line\": {\"color\": \"#E5ECF6\", \"width\": 0.5}}, \"type\": \"bar\"}], \"barpolar\": [{\"marker\": {\"line\": {\"color\": \"#E5ECF6\", \"width\": 0.5}}, \"type\": \"barpolar\"}], \"carpet\": [{\"aaxis\": {\"endlinecolor\": \"#2a3f5f\", \"gridcolor\": \"white\", \"linecolor\": \"white\", \"minorgridcolor\": \"white\", \"startlinecolor\": \"#2a3f5f\"}, \"baxis\": {\"endlinecolor\": \"#2a3f5f\", \"gridcolor\": \"white\", \"linecolor\": \"white\", \"minorgridcolor\": \"white\", \"startlinecolor\": \"#2a3f5f\"}, \"type\": \"carpet\"}], \"choropleth\": [{\"colorbar\": {\"outlinewidth\": 0, \"ticks\": \"\"}, \"type\": \"choropleth\"}], \"contour\": [{\"colorbar\": {\"outlinewidth\": 0, \"ticks\": \"\"}, \"colorscale\": [[0.0, \"#0d0887\"], [0.1111111111111111, \"#46039f\"], [0.2222222222222222, \"#7201a8\"], [0.3333333333333333, \"#9c179e\"], [0.4444444444444444, \"#bd3786\"], [0.5555555555555556, \"#d8576b\"], [0.6666666666666666, \"#ed7953\"], [0.7777777777777778, \"#fb9f3a\"], [0.8888888888888888, \"#fdca26\"], [1.0, \"#f0f921\"]], \"type\": \"contour\"}], \"contourcarpet\": [{\"colorbar\": {\"outlinewidth\": 0, \"ticks\": \"\"}, \"type\": \"contourcarpet\"}], \"heatmap\": [{\"colorbar\": {\"outlinewidth\": 0, \"ticks\": \"\"}, \"colorscale\": [[0.0, \"#0d0887\"], [0.1111111111111111, \"#46039f\"], [0.2222222222222222, \"#7201a8\"], [0.3333333333333333, \"#9c179e\"], [0.4444444444444444, \"#bd3786\"], [0.5555555555555556, \"#d8576b\"], [0.6666666666666666, \"#ed7953\"], [0.7777777777777778, \"#fb9f3a\"], [0.8888888888888888, \"#fdca26\"], [1.0, \"#f0f921\"]], \"type\": \"heatmap\"}], \"heatmapgl\": [{\"colorbar\": {\"outlinewidth\": 0, \"ticks\": \"\"}, \"colorscale\": [[0.0, \"#0d0887\"], [0.1111111111111111, \"#46039f\"], [0.2222222222222222, \"#7201a8\"], [0.3333333333333333, \"#9c179e\"], [0.4444444444444444, \"#bd3786\"], [0.5555555555555556, \"#d8576b\"], [0.6666666666666666, \"#ed7953\"], [0.7777777777777778, \"#fb9f3a\"], [0.8888888888888888, \"#fdca26\"], [1.0, \"#f0f921\"]], \"type\": \"heatmapgl\"}], \"histogram\": [{\"marker\": {\"colorbar\": {\"outlinewidth\": 0, \"ticks\": \"\"}}, \"type\": \"histogram\"}], \"histogram2d\": [{\"colorbar\": {\"outlinewidth\": 0, \"ticks\": \"\"}, \"colorscale\": [[0.0, \"#0d0887\"], [0.1111111111111111, \"#46039f\"], [0.2222222222222222, \"#7201a8\"], [0.3333333333333333, \"#9c179e\"], [0.4444444444444444, \"#bd3786\"], [0.5555555555555556, \"#d8576b\"], [0.6666666666666666, \"#ed7953\"], [0.7777777777777778, \"#fb9f3a\"], [0.8888888888888888, \"#fdca26\"], [1.0, \"#f0f921\"]], \"type\": \"histogram2d\"}], \"histogram2dcontour\": [{\"colorbar\": {\"outlinewidth\": 0, \"ticks\": \"\"}, \"colorscale\": [[0.0, \"#0d0887\"], [0.1111111111111111, \"#46039f\"], [0.2222222222222222, \"#7201a8\"], [0.3333333333333333, \"#9c179e\"], [0.4444444444444444, \"#bd3786\"], [0.5555555555555556, \"#d8576b\"], [0.6666666666666666, \"#ed7953\"], [0.7777777777777778, \"#fb9f3a\"], [0.8888888888888888, \"#fdca26\"], [1.0, \"#f0f921\"]], \"type\": \"histogram2dcontour\"}], \"mesh3d\": [{\"colorbar\": {\"outlinewidth\": 0, \"ticks\": \"\"}, \"type\": \"mesh3d\"}], \"parcoords\": [{\"line\": {\"colorbar\": {\"outlinewidth\": 0, \"ticks\": \"\"}}, \"type\": \"parcoords\"}], \"pie\": [{\"automargin\": true, \"type\": \"pie\"}], \"scatter\": [{\"marker\": {\"colorbar\": {\"outlinewidth\": 0, \"ticks\": \"\"}}, \"type\": \"scatter\"}], \"scatter3d\": [{\"line\": {\"colorbar\": {\"outlinewidth\": 0, \"ticks\": \"\"}}, \"marker\": {\"colorbar\": {\"outlinewidth\": 0, \"ticks\": \"\"}}, \"type\": \"scatter3d\"}], \"scattercarpet\": [{\"marker\": {\"colorbar\": {\"outlinewidth\": 0, \"ticks\": \"\"}}, \"type\": \"scattercarpet\"}], \"scattergeo\": [{\"marker\": {\"colorbar\": {\"outlinewidth\": 0, \"ticks\": \"\"}}, \"type\": \"scattergeo\"}], \"scattergl\": [{\"marker\": {\"colorbar\": {\"outlinewidth\": 0, \"ticks\": \"\"}}, \"type\": \"scattergl\"}], \"scattermapbox\": [{\"marker\": {\"colorbar\": {\"outlinewidth\": 0, \"ticks\": \"\"}}, \"type\": \"scattermapbox\"}], \"scatterpolar\": [{\"marker\": {\"colorbar\": {\"outlinewidth\": 0, \"ticks\": \"\"}}, \"type\": \"scatterpolar\"}], \"scatterpolargl\": [{\"marker\": {\"colorbar\": {\"outlinewidth\": 0, \"ticks\": \"\"}}, \"type\": \"scatterpolargl\"}], \"scatterternary\": [{\"marker\": {\"colorbar\": {\"outlinewidth\": 0, \"ticks\": \"\"}}, \"type\": \"scatterternary\"}], \"surface\": [{\"colorbar\": {\"outlinewidth\": 0, \"ticks\": \"\"}, \"colorscale\": [[0.0, \"#0d0887\"], [0.1111111111111111, \"#46039f\"], [0.2222222222222222, \"#7201a8\"], [0.3333333333333333, \"#9c179e\"], [0.4444444444444444, \"#bd3786\"], [0.5555555555555556, \"#d8576b\"], [0.6666666666666666, \"#ed7953\"], [0.7777777777777778, \"#fb9f3a\"], [0.8888888888888888, \"#fdca26\"], [1.0, \"#f0f921\"]], \"type\": \"surface\"}], \"table\": [{\"cells\": {\"fill\": {\"color\": \"#EBF0F8\"}, \"line\": {\"color\": \"white\"}}, \"header\": {\"fill\": {\"color\": \"#C8D4E3\"}, \"line\": {\"color\": \"white\"}}, \"type\": \"table\"}]}, \"layout\": {\"annotationdefaults\": {\"arrowcolor\": \"#2a3f5f\", \"arrowhead\": 0, \"arrowwidth\": 1}, \"coloraxis\": {\"colorbar\": {\"outlinewidth\": 0, \"ticks\": \"\"}}, \"colorscale\": {\"diverging\": [[0, \"#8e0152\"], [0.1, \"#c51b7d\"], [0.2, \"#de77ae\"], [0.3, \"#f1b6da\"], [0.4, \"#fde0ef\"], [0.5, \"#f7f7f7\"], [0.6, \"#e6f5d0\"], [0.7, \"#b8e186\"], [0.8, \"#7fbc41\"], [0.9, \"#4d9221\"], [1, \"#276419\"]], \"sequential\": [[0.0, \"#0d0887\"], [0.1111111111111111, \"#46039f\"], [0.2222222222222222, \"#7201a8\"], [0.3333333333333333, \"#9c179e\"], [0.4444444444444444, \"#bd3786\"], [0.5555555555555556, \"#d8576b\"], [0.6666666666666666, \"#ed7953\"], [0.7777777777777778, \"#fb9f3a\"], [0.8888888888888888, \"#fdca26\"], [1.0, \"#f0f921\"]], \"sequentialminus\": [[0.0, \"#0d0887\"], [0.1111111111111111, \"#46039f\"], [0.2222222222222222, \"#7201a8\"], [0.3333333333333333, \"#9c179e\"], [0.4444444444444444, \"#bd3786\"], [0.5555555555555556, \"#d8576b\"], [0.6666666666666666, \"#ed7953\"], [0.7777777777777778, \"#fb9f3a\"], [0.8888888888888888, \"#fdca26\"], [1.0, \"#f0f921\"]]}, \"colorway\": [\"#636efa\", \"#EF553B\", \"#00cc96\", \"#ab63fa\", \"#FFA15A\", \"#19d3f3\", \"#FF6692\", \"#B6E880\", \"#FF97FF\", \"#FECB52\"], \"font\": {\"color\": \"#2a3f5f\"}, \"geo\": {\"bgcolor\": \"white\", \"lakecolor\": \"white\", \"landcolor\": \"#E5ECF6\", \"showlakes\": true, \"showland\": true, \"subunitcolor\": \"white\"}, \"hoverlabel\": {\"align\": \"left\"}, \"hovermode\": \"closest\", \"mapbox\": {\"style\": \"light\"}, \"paper_bgcolor\": \"white\", \"plot_bgcolor\": \"#E5ECF6\", \"polar\": {\"angularaxis\": {\"gridcolor\": \"white\", \"linecolor\": \"white\", \"ticks\": \"\"}, \"bgcolor\": \"#E5ECF6\", \"radialaxis\": {\"gridcolor\": \"white\", \"linecolor\": \"white\", \"ticks\": \"\"}}, \"scene\": {\"xaxis\": {\"backgroundcolor\": \"#E5ECF6\", \"gridcolor\": \"white\", \"gridwidth\": 2, \"linecolor\": \"white\", \"showbackground\": true, \"ticks\": \"\", \"zerolinecolor\": \"white\"}, \"yaxis\": {\"backgroundcolor\": \"#E5ECF6\", \"gridcolor\": \"white\", \"gridwidth\": 2, \"linecolor\": \"white\", \"showbackground\": true, \"ticks\": \"\", \"zerolinecolor\": \"white\"}, \"zaxis\": {\"backgroundcolor\": \"#E5ECF6\", \"gridcolor\": \"white\", \"gridwidth\": 2, \"linecolor\": \"white\", \"showbackground\": true, \"ticks\": \"\", \"zerolinecolor\": \"white\"}}, \"shapedefaults\": {\"line\": {\"color\": \"#2a3f5f\"}}, \"ternary\": {\"aaxis\": {\"gridcolor\": \"white\", \"linecolor\": \"white\", \"ticks\": \"\"}, \"baxis\": {\"gridcolor\": \"white\", \"linecolor\": \"white\", \"ticks\": \"\"}, \"bgcolor\": \"#E5ECF6\", \"caxis\": {\"gridcolor\": \"white\", \"linecolor\": \"white\", \"ticks\": \"\"}}, \"title\": {\"x\": 0.05}, \"xaxis\": {\"automargin\": true, \"gridcolor\": \"white\", \"linecolor\": \"white\", \"ticks\": \"\", \"title\": {\"standoff\": 15}, \"zerolinecolor\": \"white\", \"zerolinewidth\": 2}, \"yaxis\": {\"automargin\": true, \"gridcolor\": \"white\", \"linecolor\": \"white\", \"ticks\": \"\", \"title\": {\"standoff\": 15}, \"zerolinecolor\": \"white\", \"zerolinewidth\": 2}}}, \"title\": {\"text\": \"Top 50 Word frequencies in the  ataset\"}},\n",
              "                        {\"responsive\": true}\n",
              "                    ).then(function(){\n",
              "                            \n",
              "var gd = document.getElementById('efba3514-32fb-4567-b24a-061c7a51860f');\n",
              "var x = new MutationObserver(function (mutations, observer) {{\n",
              "        var display = window.getComputedStyle(gd).display;\n",
              "        if (!display || display === 'none') {{\n",
              "            console.log([gd, 'removed!']);\n",
              "            Plotly.purge(gd);\n",
              "            observer.disconnect();\n",
              "        }}\n",
              "}});\n",
              "\n",
              "// Listen for the removal of the full notebook cells\n",
              "var notebookContainer = gd.closest('#notebook-container');\n",
              "if (notebookContainer) {{\n",
              "    x.observe(notebookContainer, {childList: true});\n",
              "}}\n",
              "\n",
              "// Listen for the clearing of the current output cell\n",
              "var outputEl = gd.closest('.output');\n",
              "if (outputEl) {{\n",
              "    x.observe(outputEl, {childList: true});\n",
              "}}\n",
              "\n",
              "                        })\n",
              "                };\n",
              "                });\n",
              "            </script>\n",
              "        </div>"
            ],
            "application/vnd.plotly.v1+json": {
              "data": [
                {
                  "marker": {
                    "color": [
                      2171,
                      2003,
                      1572,
                      1497,
                      1369,
                      1335,
                      1204,
                      1164,
                      1155,
                      1108,
                      1078,
                      997,
                      948,
                      905,
                      867,
                      866,
                      865,
                      824,
                      810,
                      808,
                      719,
                      715,
                      712,
                      666,
                      664,
                      654,
                      634,
                      630,
                      599,
                      541,
                      533,
                      531,
                      526,
                      523,
                      515,
                      513,
                      505,
                      503,
                      486,
                      461,
                      461,
                      449,
                      449,
                      448,
                      445,
                      431,
                      431,
                      429,
                      423,
                      403,
                      387,
                      382,
                      381,
                      368,
                      353,
                      353,
                      350,
                      346,
                      337,
                      336,
                      331,
                      325,
                      317,
                      305,
                      305,
                      294,
                      294,
                      293,
                      292,
                      291,
                      288,
                      288,
                      280,
                      276,
                      276,
                      275,
                      273,
                      266,
                      266,
                      262,
                      262,
                      260,
                      259,
                      257,
                      249,
                      245,
                      244,
                      243,
                      242,
                      240,
                      237,
                      232,
                      230,
                      228,
                      226,
                      216,
                      214,
                      213
                    ],
                    "colorscale": [
                      [
                        0,
                        "rgb(0,0,131)"
                      ],
                      [
                        0.2,
                        "rgb(0,60,170)"
                      ],
                      [
                        0.4,
                        "rgb(5,255,255)"
                      ],
                      [
                        0.6,
                        "rgb(255,255,0)"
                      ],
                      [
                        0.8,
                        "rgb(250,0,0)"
                      ],
                      [
                        1,
                        "rgb(128,0,0)"
                      ]
                    ]
                  },
                  "text": "Word counts",
                  "type": "bar",
                  "y": [
                    2171,
                    2003,
                    1572,
                    1497,
                    1369,
                    1335,
                    1204,
                    1164,
                    1155,
                    1108,
                    1078,
                    997,
                    948,
                    905,
                    867,
                    866,
                    865,
                    824,
                    810,
                    808,
                    719,
                    715,
                    712,
                    666,
                    664,
                    654,
                    634,
                    630,
                    599,
                    541,
                    533,
                    531,
                    526,
                    523,
                    515,
                    513,
                    505,
                    503,
                    486,
                    461,
                    461,
                    449,
                    449,
                    448,
                    445,
                    431,
                    431,
                    429
                  ],
                  "x": [
                    "policy",
                    "easy",
                    "service",
                    "helpful",
                    "trip",
                    "claim",
                    "need",
                    "company",
                    "question",
                    "good",
                    "purchase",
                    "use",
                    "great",
                    "customer",
                    "plan",
                    "help",
                    "coverage",
                    "answer",
                    "right",
                    "agent",
                    "cancel",
                    "time",
                    "year",
                    "find",
                    "knowledgeable",
                    "thank",
                    "price",
                    "best",
                    "process",
                    "call",
                    "jonathan",
                    "buy",
                    "refund",
                    "compare",
                    "information",
                    "option",
                    "phone",
                    "able",
                    "excellent",
                    "recommend",
                    "aardvark",
                    "roam",
                    "roamright",
                    "site",
                    "work",
                    "quick",
                    "explain",
                    "chat"
                  ]
                }
              ],
              "config": {
                "plotlyServerURL": "https://plot.ly",
                "linkText": "Export to plot.ly",
                "showLink": false
              },
              "layout": {
                "template": {
                  "layout": {
                    "shapedefaults": {
                      "line": {
                        "color": "#2a3f5f"
                      }
                    },
                    "polar": {
                      "radialaxis": {
                        "ticks": "",
                        "gridcolor": "white",
                        "linecolor": "white"
                      },
                      "bgcolor": "#E5ECF6",
                      "angularaxis": {
                        "ticks": "",
                        "gridcolor": "white",
                        "linecolor": "white"
                      }
                    },
                    "colorway": [
                      "#636efa",
                      "#EF553B",
                      "#00cc96",
                      "#ab63fa",
                      "#FFA15A",
                      "#19d3f3",
                      "#FF6692",
                      "#B6E880",
                      "#FF97FF",
                      "#FECB52"
                    ],
                    "xaxis": {
                      "automargin": true,
                      "title": {
                        "standoff": 15
                      },
                      "zerolinewidth": 2,
                      "ticks": "",
                      "zerolinecolor": "white",
                      "gridcolor": "white",
                      "linecolor": "white"
                    },
                    "colorscale": {
                      "diverging": [
                        [
                          0,
                          "#8e0152"
                        ],
                        [
                          0.1,
                          "#c51b7d"
                        ],
                        [
                          0.2,
                          "#de77ae"
                        ],
                        [
                          0.3,
                          "#f1b6da"
                        ],
                        [
                          0.4,
                          "#fde0ef"
                        ],
                        [
                          0.5,
                          "#f7f7f7"
                        ],
                        [
                          0.6,
                          "#e6f5d0"
                        ],
                        [
                          0.7,
                          "#b8e186"
                        ],
                        [
                          0.8,
                          "#7fbc41"
                        ],
                        [
                          0.9,
                          "#4d9221"
                        ],
                        [
                          1,
                          "#276419"
                        ]
                      ],
                      "sequential": [
                        [
                          0,
                          "#0d0887"
                        ],
                        [
                          0.1111111111111111,
                          "#46039f"
                        ],
                        [
                          0.2222222222222222,
                          "#7201a8"
                        ],
                        [
                          0.3333333333333333,
                          "#9c179e"
                        ],
                        [
                          0.4444444444444444,
                          "#bd3786"
                        ],
                        [
                          0.5555555555555556,
                          "#d8576b"
                        ],
                        [
                          0.6666666666666666,
                          "#ed7953"
                        ],
                        [
                          0.7777777777777778,
                          "#fb9f3a"
                        ],
                        [
                          0.8888888888888888,
                          "#fdca26"
                        ],
                        [
                          1,
                          "#f0f921"
                        ]
                      ],
                      "sequentialminus": [
                        [
                          0,
                          "#0d0887"
                        ],
                        [
                          0.1111111111111111,
                          "#46039f"
                        ],
                        [
                          0.2222222222222222,
                          "#7201a8"
                        ],
                        [
                          0.3333333333333333,
                          "#9c179e"
                        ],
                        [
                          0.4444444444444444,
                          "#bd3786"
                        ],
                        [
                          0.5555555555555556,
                          "#d8576b"
                        ],
                        [
                          0.6666666666666666,
                          "#ed7953"
                        ],
                        [
                          0.7777777777777778,
                          "#fb9f3a"
                        ],
                        [
                          0.8888888888888888,
                          "#fdca26"
                        ],
                        [
                          1,
                          "#f0f921"
                        ]
                      ]
                    },
                    "paper_bgcolor": "white",
                    "plot_bgcolor": "#E5ECF6",
                    "title": {
                      "x": 0.05
                    },
                    "scene": {
                      "zaxis": {
                        "backgroundcolor": "#E5ECF6",
                        "ticks": "",
                        "gridwidth": 2,
                        "showbackground": true,
                        "zerolinecolor": "white",
                        "gridcolor": "white",
                        "linecolor": "white"
                      },
                      "xaxis": {
                        "backgroundcolor": "#E5ECF6",
                        "ticks": "",
                        "gridwidth": 2,
                        "showbackground": true,
                        "zerolinecolor": "white",
                        "gridcolor": "white",
                        "linecolor": "white"
                      },
                      "yaxis": {
                        "backgroundcolor": "#E5ECF6",
                        "ticks": "",
                        "gridwidth": 2,
                        "showbackground": true,
                        "zerolinecolor": "white",
                        "gridcolor": "white",
                        "linecolor": "white"
                      }
                    },
                    "yaxis": {
                      "automargin": true,
                      "title": {
                        "standoff": 15
                      },
                      "zerolinewidth": 2,
                      "ticks": "",
                      "zerolinecolor": "white",
                      "gridcolor": "white",
                      "linecolor": "white"
                    },
                    "annotationdefaults": {
                      "arrowwidth": 1,
                      "arrowhead": 0,
                      "arrowcolor": "#2a3f5f"
                    },
                    "hoverlabel": {
                      "align": "left"
                    },
                    "ternary": {
                      "bgcolor": "#E5ECF6",
                      "baxis": {
                        "ticks": "",
                        "gridcolor": "white",
                        "linecolor": "white"
                      },
                      "caxis": {
                        "ticks": "",
                        "gridcolor": "white",
                        "linecolor": "white"
                      },
                      "aaxis": {
                        "ticks": "",
                        "gridcolor": "white",
                        "linecolor": "white"
                      }
                    },
                    "mapbox": {
                      "style": "light"
                    },
                    "hovermode": "closest",
                    "font": {
                      "color": "#2a3f5f"
                    },
                    "geo": {
                      "showland": true,
                      "landcolor": "#E5ECF6",
                      "showlakes": true,
                      "bgcolor": "white",
                      "subunitcolor": "white",
                      "lakecolor": "white"
                    },
                    "coloraxis": {
                      "colorbar": {
                        "outlinewidth": 0,
                        "ticks": ""
                      }
                    }
                  },
                  "data": {
                    "mesh3d": [
                      {
                        "colorbar": {
                          "outlinewidth": 0,
                          "ticks": ""
                        },
                        "type": "mesh3d"
                      }
                    ],
                    "scattercarpet": [
                      {
                        "marker": {
                          "colorbar": {
                            "outlinewidth": 0,
                            "ticks": ""
                          }
                        },
                        "type": "scattercarpet"
                      }
                    ],
                    "pie": [
                      {
                        "automargin": true,
                        "type": "pie"
                      }
                    ],
                    "surface": [
                      {
                        "colorbar": {
                          "outlinewidth": 0,
                          "ticks": ""
                        },
                        "type": "surface",
                        "colorscale": [
                          [
                            0,
                            "#0d0887"
                          ],
                          [
                            0.1111111111111111,
                            "#46039f"
                          ],
                          [
                            0.2222222222222222,
                            "#7201a8"
                          ],
                          [
                            0.3333333333333333,
                            "#9c179e"
                          ],
                          [
                            0.4444444444444444,
                            "#bd3786"
                          ],
                          [
                            0.5555555555555556,
                            "#d8576b"
                          ],
                          [
                            0.6666666666666666,
                            "#ed7953"
                          ],
                          [
                            0.7777777777777778,
                            "#fb9f3a"
                          ],
                          [
                            0.8888888888888888,
                            "#fdca26"
                          ],
                          [
                            1,
                            "#f0f921"
                          ]
                        ]
                      }
                    ],
                    "table": [
                      {
                        "header": {
                          "line": {
                            "color": "white"
                          },
                          "fill": {
                            "color": "#C8D4E3"
                          }
                        },
                        "cells": {
                          "line": {
                            "color": "white"
                          },
                          "fill": {
                            "color": "#EBF0F8"
                          }
                        },
                        "type": "table"
                      }
                    ],
                    "scatterpolargl": [
                      {
                        "marker": {
                          "colorbar": {
                            "outlinewidth": 0,
                            "ticks": ""
                          }
                        },
                        "type": "scatterpolargl"
                      }
                    ],
                    "contour": [
                      {
                        "colorbar": {
                          "outlinewidth": 0,
                          "ticks": ""
                        },
                        "type": "contour",
                        "colorscale": [
                          [
                            0,
                            "#0d0887"
                          ],
                          [
                            0.1111111111111111,
                            "#46039f"
                          ],
                          [
                            0.2222222222222222,
                            "#7201a8"
                          ],
                          [
                            0.3333333333333333,
                            "#9c179e"
                          ],
                          [
                            0.4444444444444444,
                            "#bd3786"
                          ],
                          [
                            0.5555555555555556,
                            "#d8576b"
                          ],
                          [
                            0.6666666666666666,
                            "#ed7953"
                          ],
                          [
                            0.7777777777777778,
                            "#fb9f3a"
                          ],
                          [
                            0.8888888888888888,
                            "#fdca26"
                          ],
                          [
                            1,
                            "#f0f921"
                          ]
                        ]
                      }
                    ],
                    "carpet": [
                      {
                        "type": "carpet",
                        "baxis": {
                          "minorgridcolor": "white",
                          "gridcolor": "white",
                          "linecolor": "white",
                          "endlinecolor": "#2a3f5f",
                          "startlinecolor": "#2a3f5f"
                        },
                        "aaxis": {
                          "minorgridcolor": "white",
                          "gridcolor": "white",
                          "linecolor": "white",
                          "endlinecolor": "#2a3f5f",
                          "startlinecolor": "#2a3f5f"
                        }
                      }
                    ],
                    "contourcarpet": [
                      {
                        "colorbar": {
                          "outlinewidth": 0,
                          "ticks": ""
                        },
                        "type": "contourcarpet"
                      }
                    ],
                    "heatmap": [
                      {
                        "colorbar": {
                          "outlinewidth": 0,
                          "ticks": ""
                        },
                        "type": "heatmap",
                        "colorscale": [
                          [
                            0,
                            "#0d0887"
                          ],
                          [
                            0.1111111111111111,
                            "#46039f"
                          ],
                          [
                            0.2222222222222222,
                            "#7201a8"
                          ],
                          [
                            0.3333333333333333,
                            "#9c179e"
                          ],
                          [
                            0.4444444444444444,
                            "#bd3786"
                          ],
                          [
                            0.5555555555555556,
                            "#d8576b"
                          ],
                          [
                            0.6666666666666666,
                            "#ed7953"
                          ],
                          [
                            0.7777777777777778,
                            "#fb9f3a"
                          ],
                          [
                            0.8888888888888888,
                            "#fdca26"
                          ],
                          [
                            1,
                            "#f0f921"
                          ]
                        ]
                      }
                    ],
                    "scattermapbox": [
                      {
                        "marker": {
                          "colorbar": {
                            "outlinewidth": 0,
                            "ticks": ""
                          }
                        },
                        "type": "scattermapbox"
                      }
                    ],
                    "scatter3d": [
                      {
                        "marker": {
                          "colorbar": {
                            "outlinewidth": 0,
                            "ticks": ""
                          }
                        },
                        "line": {
                          "colorbar": {
                            "outlinewidth": 0,
                            "ticks": ""
                          }
                        },
                        "type": "scatter3d"
                      }
                    ],
                    "scattergl": [
                      {
                        "marker": {
                          "colorbar": {
                            "outlinewidth": 0,
                            "ticks": ""
                          }
                        },
                        "type": "scattergl"
                      }
                    ],
                    "scatterternary": [
                      {
                        "marker": {
                          "colorbar": {
                            "outlinewidth": 0,
                            "ticks": ""
                          }
                        },
                        "type": "scatterternary"
                      }
                    ],
                    "histogram": [
                      {
                        "marker": {
                          "colorbar": {
                            "outlinewidth": 0,
                            "ticks": ""
                          }
                        },
                        "type": "histogram"
                      }
                    ],
                    "heatmapgl": [
                      {
                        "colorbar": {
                          "outlinewidth": 0,
                          "ticks": ""
                        },
                        "type": "heatmapgl",
                        "colorscale": [
                          [
                            0,
                            "#0d0887"
                          ],
                          [
                            0.1111111111111111,
                            "#46039f"
                          ],
                          [
                            0.2222222222222222,
                            "#7201a8"
                          ],
                          [
                            0.3333333333333333,
                            "#9c179e"
                          ],
                          [
                            0.4444444444444444,
                            "#bd3786"
                          ],
                          [
                            0.5555555555555556,
                            "#d8576b"
                          ],
                          [
                            0.6666666666666666,
                            "#ed7953"
                          ],
                          [
                            0.7777777777777778,
                            "#fb9f3a"
                          ],
                          [
                            0.8888888888888888,
                            "#fdca26"
                          ],
                          [
                            1,
                            "#f0f921"
                          ]
                        ]
                      }
                    ],
                    "scatterpolar": [
                      {
                        "marker": {
                          "colorbar": {
                            "outlinewidth": 0,
                            "ticks": ""
                          }
                        },
                        "type": "scatterpolar"
                      }
                    ],
                    "histogram2d": [
                      {
                        "colorbar": {
                          "outlinewidth": 0,
                          "ticks": ""
                        },
                        "type": "histogram2d",
                        "colorscale": [
                          [
                            0,
                            "#0d0887"
                          ],
                          [
                            0.1111111111111111,
                            "#46039f"
                          ],
                          [
                            0.2222222222222222,
                            "#7201a8"
                          ],
                          [
                            0.3333333333333333,
                            "#9c179e"
                          ],
                          [
                            0.4444444444444444,
                            "#bd3786"
                          ],
                          [
                            0.5555555555555556,
                            "#d8576b"
                          ],
                          [
                            0.6666666666666666,
                            "#ed7953"
                          ],
                          [
                            0.7777777777777778,
                            "#fb9f3a"
                          ],
                          [
                            0.8888888888888888,
                            "#fdca26"
                          ],
                          [
                            1,
                            "#f0f921"
                          ]
                        ]
                      }
                    ],
                    "scattergeo": [
                      {
                        "marker": {
                          "colorbar": {
                            "outlinewidth": 0,
                            "ticks": ""
                          }
                        },
                        "type": "scattergeo"
                      }
                    ],
                    "bar": [
                      {
                        "marker": {
                          "line": {
                            "color": "#E5ECF6",
                            "width": 0.5
                          }
                        },
                        "type": "bar",
                        "error_x": {
                          "color": "#2a3f5f"
                        },
                        "error_y": {
                          "color": "#2a3f5f"
                        }
                      }
                    ],
                    "choropleth": [
                      {
                        "colorbar": {
                          "outlinewidth": 0,
                          "ticks": ""
                        },
                        "type": "choropleth"
                      }
                    ],
                    "parcoords": [
                      {
                        "line": {
                          "colorbar": {
                            "outlinewidth": 0,
                            "ticks": ""
                          }
                        },
                        "type": "parcoords"
                      }
                    ],
                    "barpolar": [
                      {
                        "marker": {
                          "line": {
                            "color": "#E5ECF6",
                            "width": 0.5
                          }
                        },
                        "type": "barpolar"
                      }
                    ],
                    "histogram2dcontour": [
                      {
                        "colorbar": {
                          "outlinewidth": 0,
                          "ticks": ""
                        },
                        "type": "histogram2dcontour",
                        "colorscale": [
                          [
                            0,
                            "#0d0887"
                          ],
                          [
                            0.1111111111111111,
                            "#46039f"
                          ],
                          [
                            0.2222222222222222,
                            "#7201a8"
                          ],
                          [
                            0.3333333333333333,
                            "#9c179e"
                          ],
                          [
                            0.4444444444444444,
                            "#bd3786"
                          ],
                          [
                            0.5555555555555556,
                            "#d8576b"
                          ],
                          [
                            0.6666666666666666,
                            "#ed7953"
                          ],
                          [
                            0.7777777777777778,
                            "#fb9f3a"
                          ],
                          [
                            0.8888888888888888,
                            "#fdca26"
                          ],
                          [
                            1,
                            "#f0f921"
                          ]
                        ]
                      }
                    ],
                    "scatter": [
                      {
                        "marker": {
                          "colorbar": {
                            "outlinewidth": 0,
                            "ticks": ""
                          }
                        },
                        "type": "scatter"
                      }
                    ]
                  }
                },
                "title": {
                  "text": "Top 50 Word frequencies in the  ataset"
                }
              }
            }
          },
          "metadata": {
            "tags": []
          }
        }
      ]
    },
    {
      "cell_type": "code",
      "metadata": {
        "colab": {
          "base_uri": "https://localhost:8080/"
        },
        "id": "NQkk0D2qJmDI",
        "outputId": "d6367e37-b340-43f4-9b89-f1070c79db85"
      },
      "source": [
        "df.columns"
      ],
      "execution_count": 18,
      "outputs": [
        {
          "output_type": "execute_result",
          "data": {
            "text/plain": [
              "Index(['Title', 'Body', 'Stars', 'Rated', 'Date Posted', 'Time Posted', 'Name',\n",
              "       'userId', 'Clean_Text_Body'],\n",
              "      dtype='object')"
            ]
          },
          "metadata": {
            "tags": []
          },
          "execution_count": 18
        }
      ]
    },
    {
      "cell_type": "code",
      "metadata": {
        "id": "m4bd3lPNQr0X"
      },
      "source": [
        "import nltk"
      ],
      "execution_count": 19,
      "outputs": []
    },
    {
      "cell_type": "code",
      "metadata": {
        "colab": {
          "base_uri": "https://localhost:8080/"
        },
        "id": "GpfiTsumQt5r",
        "outputId": "849b5315-6f25-4181-cfab-be61a37c613d"
      },
      "source": [
        "for i in range(0,5):\n",
        "  text = df.Clean_Text_Body.values[i]\n",
        "  print(text)\n",
        "  print(text.split(' '))\n",
        "  print('\\n')"
      ],
      "execution_count": 20,
      "outputs": [
        {
          "output_type": "stream",
          "text": [
            "excellent service good experience\n",
            "['excellent', 'service', 'good', 'experience']\n",
            "\n",
            "\n",
            "call number assist tina help identify policy cover extend complicate travel plan eager help clear thorough friendly professional reviewed quote call  day later finalize purchase pleased tina answer quickly efficiently help valuable employee tina hope treat accordingly\n",
            "['call', 'number', 'assist', 'tina', 'help', 'identify', 'policy', 'cover', 'extend', 'complicate', 'travel', 'plan', 'eager', 'help', 'clear', 'thorough', 'friendly', 'professional', 'reviewed', 'quote', 'call', '', 'day', 'later', 'finalize', 'purchase', 'pleased', 'tina', 'answer', 'quickly', 'efficiently', 'help', 'valuable', 'employee', 'tina', 'hope', 'treat', 'accordingly']\n",
            "\n",
            "\n",
            "best deal provide online  complain good service\n",
            "['best', 'deal', 'provide', 'online', '', 'complain', 'good', 'service']\n",
            "\n",
            "\n",
            " purchase travel insurance leave costa rica week require aardy website come random google search allow compare company price coverage glance online  chat  feature question answer later call main number email send gal messaging chat feature speak different agent quickly look email insurance bid answer questionsshe knowledgeable current requirement travel destination sure help fill correctly purchase plani  thankful stumble aardy offer affordable insurance plan option job find travel insurance company check policy sure adequate purchasing policy smooth efficient\n",
            "['', 'purchase', 'travel', 'insurance', 'leave', 'costa', 'rica', 'week', 'require', 'aardy', 'website', 'come', 'random', 'google', 'search', 'allow', 'compare', 'company', 'price', 'coverage', 'glance', 'online', '', 'chat', '', 'feature', 'question', 'answer', 'later', 'call', 'main', 'number', 'email', 'send', 'gal', 'messaging', 'chat', 'feature', 'speak', 'different', 'agent', 'quickly', 'look', 'email', 'insurance', 'bid', 'answer', 'questionsshe', 'knowledgeable', 'current', 'requirement', 'travel', 'destination', 'sure', 'help', 'fill', 'correctly', 'purchase', 'plani', '', 'thankful', 'stumble', 'aardy', 'offer', 'affordable', 'insurance', 'plan', 'option', 'job', 'find', 'travel', 'insurance', 'company', 'check', 'policy', 'sure', 'adequate', 'purchasing', 'policy', 'smooth', 'efficient']\n",
            "\n",
            "\n",
            "easy quote call question get clear concise replt\n",
            "['easy', 'quote', 'call', 'question', 'get', 'clear', 'concise', 'replt']\n",
            "\n",
            "\n"
          ],
          "name": "stdout"
        }
      ]
    },
    {
      "cell_type": "code",
      "metadata": {
        "colab": {
          "base_uri": "https://localhost:8080/"
        },
        "id": "JATcDC-qkq-J",
        "outputId": "b7c88512-fa12-41fa-d0a2-f13c13888fc9"
      },
      "source": [
        "import nltk\n",
        "nltk.download('punkt')"
      ],
      "execution_count": 21,
      "outputs": [
        {
          "output_type": "stream",
          "text": [
            "[nltk_data] Downloading package punkt to /root/nltk_data...\n",
            "[nltk_data]   Package punkt is already up-to-date!\n"
          ],
          "name": "stdout"
        },
        {
          "output_type": "execute_result",
          "data": {
            "text/plain": [
              "True"
            ]
          },
          "metadata": {
            "tags": []
          },
          "execution_count": 21
        }
      ]
    },
    {
      "cell_type": "code",
      "metadata": {
        "colab": {
          "base_uri": "https://localhost:8080/"
        },
        "id": "bD4mYBbIkidL",
        "outputId": "bc6692ee-c876-4c88-efc4-801452cf9111"
      },
      "source": [
        "for i in range(0,5):\n",
        "  first_text_list = nltk.word_tokenize(df.Clean_Text_Body.values[i])\n",
        "  print(first_text_list)\n",
        "  print()"
      ],
      "execution_count": 22,
      "outputs": [
        {
          "output_type": "stream",
          "text": [
            "['excellent', 'service', 'good', 'experience']\n",
            "\n",
            "['call', 'number', 'assist', 'tina', 'help', 'identify', 'policy', 'cover', 'extend', 'complicate', 'travel', 'plan', 'eager', 'help', 'clear', 'thorough', 'friendly', 'professional', 'reviewed', 'quote', 'call', 'day', 'later', 'finalize', 'purchase', 'pleased', 'tina', 'answer', 'quickly', 'efficiently', 'help', 'valuable', 'employee', 'tina', 'hope', 'treat', 'accordingly']\n",
            "\n",
            "['best', 'deal', 'provide', 'online', 'complain', 'good', 'service']\n",
            "\n",
            "['purchase', 'travel', 'insurance', 'leave', 'costa', 'rica', 'week', 'require', 'aardy', 'website', 'come', 'random', 'google', 'search', 'allow', 'compare', 'company', 'price', 'coverage', 'glance', 'online', 'chat', 'feature', 'question', 'answer', 'later', 'call', 'main', 'number', 'email', 'send', 'gal', 'messaging', 'chat', 'feature', 'speak', 'different', 'agent', 'quickly', 'look', 'email', 'insurance', 'bid', 'answer', 'questionsshe', 'knowledgeable', 'current', 'requirement', 'travel', 'destination', 'sure', 'help', 'fill', 'correctly', 'purchase', 'plani', 'thankful', 'stumble', 'aardy', 'offer', 'affordable', 'insurance', 'plan', 'option', 'job', 'find', 'travel', 'insurance', 'company', 'check', 'policy', 'sure', 'adequate', 'purchasing', 'policy', 'smooth', 'efficient']\n",
            "\n",
            "['easy', 'quote', 'call', 'question', 'get', 'clear', 'concise', 'replt']\n",
            "\n"
          ],
          "name": "stdout"
        }
      ]
    },
    {
      "cell_type": "code",
      "metadata": {
        "colab": {
          "base_uri": "https://localhost:8080/"
        },
        "id": "qtTzjH8Fkd_D",
        "outputId": "50eda7ba-6fa7-4dd7-edd7-86cd801f69be"
      },
      "source": [
        "from nltk.corpus import wordnet as wn\n",
        "from nltk.stem.wordnet import WordNetLemmatizer\n",
        "nltk.download('stopwords')"
      ],
      "execution_count": 23,
      "outputs": [
        {
          "output_type": "stream",
          "text": [
            "[nltk_data] Downloading package stopwords to /root/nltk_data...\n",
            "[nltk_data]   Package stopwords is already up-to-date!\n"
          ],
          "name": "stdout"
        },
        {
          "output_type": "execute_result",
          "data": {
            "text/plain": [
              "True"
            ]
          },
          "metadata": {
            "tags": []
          },
          "execution_count": 23
        }
      ]
    },
    {
      "cell_type": "code",
      "metadata": {
        "colab": {
          "base_uri": "https://localhost:8080/"
        },
        "id": "2GLCcARNSb0e",
        "outputId": "1829f82d-6078-45bb-d5ea-22f7c563d85f"
      },
      "source": [
        "stopwords = nltk.corpus.stopwords.words('english')\n",
        "len(stopwords)"
      ],
      "execution_count": 24,
      "outputs": [
        {
          "output_type": "execute_result",
          "data": {
            "text/plain": [
              "179"
            ]
          },
          "metadata": {
            "tags": []
          },
          "execution_count": 24
        }
      ]
    },
    {
      "cell_type": "code",
      "metadata": {
        "colab": {
          "base_uri": "https://localhost:8080/"
        },
        "id": "R-XVbtLVkb8-",
        "outputId": "20b42b93-a57a-4c41-e7c3-fe8c7fbaa15c"
      },
      "source": [
        "first_text_list_cleaned = [word for word in first_text_list if word.lower() not in stopwords]\n",
        "print(first_text_list_cleaned)\n",
        "print('\\n')\n",
        "print(\"Length of original list: {0} words\\n\"\n",
        "      \"Length of list after stopwords removal: {1} words\"\n",
        "      .format(len(first_text_list), len(first_text_list_cleaned)))"
      ],
      "execution_count": 25,
      "outputs": [
        {
          "output_type": "stream",
          "text": [
            "['easy', 'quote', 'call', 'question', 'get', 'clear', 'concise', 'replt']\n",
            "\n",
            "\n",
            "Length of original list: 8 words\n",
            "Length of list after stopwords removal: 8 words\n"
          ],
          "name": "stdout"
        }
      ]
    },
    {
      "cell_type": "code",
      "metadata": {
        "id": "NJO4wQvyk-8t"
      },
      "source": [
        "def print_top_words(model, feature_names, n_top_words):\n",
        "    for index, topic in enumerate(model.components_):\n",
        "        message = \"\\nTopic #{}:\".format(index)\n",
        "        message += \" \".join([feature_names[i] for i in topic.argsort()[:-n_top_words - 1 :-1]])\n",
        "        print(message)\n",
        "        print(\"=\"*70)"
      ],
      "execution_count": 26,
      "outputs": []
    },
    {
      "cell_type": "code",
      "metadata": {
        "id": "hRUDrNE1lzgi"
      },
      "source": [
        "\n",
        "from sklearn.feature_extraction.text import CountVectorizer"
      ],
      "execution_count": 27,
      "outputs": []
    },
    {
      "cell_type": "code",
      "metadata": {
        "id": "V14Hx6xHlOOF"
      },
      "source": [
        "lemm = WordNetLemmatizer()\n",
        "class LemmaCountVectorizer(CountVectorizer):\n",
        "    def build_analyzer(self):\n",
        "        analyzer = super(LemmaCountVectorizer, self).build_analyzer()\n",
        "        return lambda doc: (lemm.lemmatize(w) for w in analyzer(doc))"
      ],
      "execution_count": 28,
      "outputs": []
    },
    {
      "cell_type": "code",
      "metadata": {
        "colab": {
          "base_uri": "https://localhost:8080/"
        },
        "id": "PEK9PLJYl740",
        "outputId": "fc47b051-c4fd-495b-c8d4-102bdb3aeb6b"
      },
      "source": [
        "import nltk\n",
        "nltk.download('wordnet')"
      ],
      "execution_count": 29,
      "outputs": [
        {
          "output_type": "stream",
          "text": [
            "[nltk_data] Downloading package wordnet to /root/nltk_data...\n",
            "[nltk_data]   Package wordnet is already up-to-date!\n"
          ],
          "name": "stdout"
        },
        {
          "output_type": "execute_result",
          "data": {
            "text/plain": [
              "True"
            ]
          },
          "metadata": {
            "tags": []
          },
          "execution_count": 29
        }
      ]
    },
    {
      "cell_type": "code",
      "metadata": {
        "id": "Z-P40ibElejl"
      },
      "source": [
        "text = list(df['Clean_Text_Body'].values)\n",
        "# Calling our overwritten Count vectorizer\n",
        "tf_vectorizer = LemmaCountVectorizer(max_df=0.95, \n",
        "                                     min_df=2,\n",
        "                                     stop_words='english',\n",
        "                                     decode_error='ignore')\n",
        "tf = tf_vectorizer.fit_transform(text)"
      ],
      "execution_count": 30,
      "outputs": []
    },
    {
      "cell_type": "code",
      "metadata": {
        "id": "sl3g0H93l6BE"
      },
      "source": [
        "from sklearn.feature_extraction.text import TfidfVectorizer, CountVectorizer\n",
        "from sklearn.decomposition import NMF, LatentDirichletAllocation"
      ],
      "execution_count": 31,
      "outputs": []
    },
    {
      "cell_type": "code",
      "metadata": {
        "id": "rDJbIa0lmCcg"
      },
      "source": [
        "lda = LatentDirichletAllocation(n_components=11, max_iter=5,\n",
        "                                learning_method = 'online',\n",
        "                                learning_offset = 50.,\n",
        "                                random_state = 0)"
      ],
      "execution_count": 32,
      "outputs": []
    },
    {
      "cell_type": "code",
      "metadata": {
        "colab": {
          "base_uri": "https://localhost:8080/"
        },
        "id": "FAf4F_JhmOFZ",
        "outputId": "f2a80424-a065-45fa-8d5e-33a1d2872040"
      },
      "source": [
        "lda.fit(tf)"
      ],
      "execution_count": 33,
      "outputs": [
        {
          "output_type": "execute_result",
          "data": {
            "text/plain": [
              "LatentDirichletAllocation(batch_size=128, doc_topic_prior=None,\n",
              "                          evaluate_every=-1, learning_decay=0.7,\n",
              "                          learning_method='online', learning_offset=50.0,\n",
              "                          max_doc_update_iter=100, max_iter=5,\n",
              "                          mean_change_tol=0.001, n_components=11, n_jobs=None,\n",
              "                          perp_tol=0.1, random_state=0, topic_word_prior=None,\n",
              "                          total_samples=1000000.0, verbose=0)"
            ]
          },
          "metadata": {
            "tags": []
          },
          "execution_count": 33
        }
      ]
    },
    {
      "cell_type": "code",
      "metadata": {
        "colab": {
          "base_uri": "https://localhost:8080/"
        },
        "id": "NE2sE_H7mQNw",
        "outputId": "b883caee-719b-4a60-d453-ec962df43083"
      },
      "source": [
        "n_top_words = 40\n",
        "print(\"\\nTopics in LDA model: \")\n",
        "tf_feature_names = tf_vectorizer.get_feature_names()\n",
        "print_top_words(lda, tf_feature_names, n_top_words)"
      ],
      "execution_count": 34,
      "outputs": [
        {
          "output_type": "stream",
          "text": [
            "\n",
            "Topics in LDA model: \n",
            "\n",
            "Topic #0:trip cancel new contact customer premium confidence fear roam wish company trust reach satisfied leave situation result fine deal try unable start hope print unfortunately advantage deny listen lose country appreciate africa york south discus agree uk living quarantine uncertainty\n",
            "======================================================================\n",
            "\n",
            "Topic #1:roamright claim service change slow year january phone right absolutely incredibly actually conversation accept long relate cause extra instead design note inform possible moment look unclear reschedule explanation th legal promptly guess worth default tell deserve announce pandemic refuse waste\n",
            "======================================================================\n",
            "\n",
            "Topic #2:sonia believe scotty itravel suman ngo properly sonias wound supervisor silly dial advertise thumb cool customization facet barraza haleana navigable consumer annoy sabrina initiate longer frustrating newbie signup applicable caldas honeymoon dispute instantaneous zealand adjust electronic contrast bonus covered prove\n",
            "======================================================================\n",
            "\n",
            "Topic #3:insurance travel policy purchase right company trip plan use coverage aardvark need able easy compare good work know future customer want cost offer like site provide review thank service buy receive choice help price look covid time affordable pleased feel\n",
            "======================================================================\n",
            "\n",
            "Topic #4:easy helpful question need policy insurance agent answer good knowledgeable use help travel best great quick option jonathan process recommend price explain experience coverage friendly chat plan purchase website clear efficient information trip professional pleasant informative talk thanks thank understand\n",
            "======================================================================\n",
            "\n",
            "Topic #5:refund travel money twice insurance help sense date cancellation save provided virus worth pandemic corona cease lapse return hassle thank advise write dollar protect bad reassure mother comparable pay reply article view issue computer air appreciate enroll expense case small\n",
            "======================================================================\n",
            "\n",
            "Topic #6:service customer great excellent happy time jonathan rep question job good experience thank answer outcome turnaround wonderful concern email explain pricing policy phone suggestion outstanding prompt hour follow nice support link response care assistance fantastic lot quote state finally patience\n",
            "======================================================================\n",
            "\n",
            "Topic #7:travel year company roam refund contract insurance good service claim policy credit past accord profit liability pandemic tell file want arch purchase purchased pay course assist chance treat happen readily secure willing partner conclusion word march transition deduct draw commodity\n",
            "======================================================================\n",
            "\n",
            "Topic #8:cancel payment thanks coverage let check trip previously kindly supportive pure reinstatement price professional refund year condition multiple arch limited sale file sell preexisting traveler senior positive period confuse terrific understanding know reason state pre stuff policy rest budget waiver\n",
            "======================================================================\n",
            "\n",
            "Topic #9:visitor perfect visitorscoverage platform img min maximum alexa relevant soon signing nicely deductible josiah patriot nonus specialist pertinent america anticipate browser opinion terrible jerome melissa adviser contain acute rang success fraud davallou hcc rapid green unnecessary reece recognize sonja innetwork\n",
            "======================================================================\n",
            "\n",
            "Topic #10:claim email buy submit pay time issue process information ask travel week ago include payment thank visit problem service simple far month book send promptly provide safe request respond outside thing insurance phone appear home attention area proof customer initially\n",
            "======================================================================\n"
          ],
          "name": "stdout"
        }
      ]
    },
    {
      "cell_type": "code",
      "metadata": {
        "id": "ImfXFdkbmVhN"
      },
      "source": [
        "first_topic = lda.components_[0]\n",
        "second_topic = lda.components_[1]\n",
        "third_topic = lda.components_[2]"
      ],
      "execution_count": 35,
      "outputs": []
    },
    {
      "cell_type": "code",
      "metadata": {
        "colab": {
          "base_uri": "https://localhost:8080/"
        },
        "id": "m0DJ3iMvmhNJ",
        "outputId": "c4a21bef-edc6-4c82-9b83-c58d9338e19f"
      },
      "source": [
        "first_topic.shape"
      ],
      "execution_count": 36,
      "outputs": [
        {
          "output_type": "execute_result",
          "data": {
            "text/plain": [
              "(2107,)"
            ]
          },
          "metadata": {
            "tags": []
          },
          "execution_count": 36
        }
      ]
    },
    {
      "cell_type": "code",
      "metadata": {
        "id": "wYZVWnMVnL_T"
      },
      "source": [
        "first_topic_words = [tf_feature_names[i] for i in first_topic.argsort()[:-50 - 1 :-1]]\n",
        "second_topic_words = [tf_feature_names[i] for i in second_topic.argsort()[:-50 - 1 :-1]]\n",
        "third_topic_words = [tf_feature_names[i] for i in third_topic.argsort()[:-50 - 1 :-1]]"
      ],
      "execution_count": 37,
      "outputs": []
    },
    {
      "cell_type": "code",
      "metadata": {
        "id": "sJCdui02m78S"
      },
      "source": [
        "from wordcloud import WordCloud, STOPWORDS"
      ],
      "execution_count": 38,
      "outputs": []
    },
    {
      "cell_type": "code",
      "metadata": {
        "colab": {
          "base_uri": "https://localhost:8080/",
          "height": 248
        },
        "id": "3imEefiNmjbw",
        "outputId": "f8524165-2872-4dfa-c456-c53119a511b5"
      },
      "source": [
        "firstcloud = WordCloud(\n",
        "                          stopwords=STOPWORDS,\n",
        "                          background_color='black',\n",
        "                          width=2500,\n",
        "                          height=1800\n",
        "                         ).generate(\" \".join(first_topic_words))\n",
        "plt.imshow(firstcloud)\n",
        "plt.axis('off')\n",
        "plt.show()"
      ],
      "execution_count": 39,
      "outputs": [
        {
          "output_type": "display_data",
          "data": {
            "image/png": "[encoded data removed]",
            "text/plain": [
              "<Figure size 432x288 with 1 Axes>"
            ]
          },
          "metadata": {
            "tags": [],
            "needs_background": "light"
          }
        }
      ]
    },
    {
      "cell_type": "code",
      "metadata": {
        "colab": {
          "base_uri": "https://localhost:8080/",
          "height": 248
        },
        "id": "jNFTwiIQmryI",
        "outputId": "9f940552-5bdd-42fd-8906-c68923a1a825"
      },
      "source": [
        "cloud = WordCloud(\n",
        "                          stopwords=STOPWORDS,\n",
        "                          background_color='black',\n",
        "                          width=2500,\n",
        "                          height=1800\n",
        "                         ).generate(\" \".join(second_topic_words))\n",
        "plt.imshow(cloud)\n",
        "plt.axis('off')\n",
        "plt.show()"
      ],
      "execution_count": 40,
      "outputs": [
        {
          "output_type": "display_data",
          "data": {
            "image/png": "[encoded data removed]",
            "text/plain": [
              "<Figure size 432x288 with 1 Axes>"
            ]
          },
          "metadata": {
            "tags": [],
            "needs_background": "light"
          }
        }
      ]
    },
    {
      "cell_type": "code",
      "metadata": {
        "colab": {
          "base_uri": "https://localhost:8080/",
          "height": 248
        },
        "id": "QWzVWNfym0e-",
        "outputId": "6211764a-1f90-4c8c-a5db-0e8cf173b3d7"
      },
      "source": [
        "cloud = WordCloud(\n",
        "                          stopwords=STOPWORDS,\n",
        "                          background_color='black',\n",
        "                          width=2500,\n",
        "                          height=1800\n",
        "                         ).generate(\" \".join(third_topic_words))\n",
        "plt.imshow(cloud)\n",
        "plt.axis('off')\n",
        "plt.show()"
      ],
      "execution_count": 41,
      "outputs": [
        {
          "output_type": "display_data",
          "data": {
            "image/png": "[encoded data removed]",
            "text/plain": [
              "<Figure size 432x288 with 1 Axes>"
            ]
          },
          "metadata": {
            "tags": [],
            "needs_background": "light"
          }
        }
      ]
    }
  ]
}